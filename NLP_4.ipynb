{
  "nbformat": 4,
  "nbformat_minor": 0,
  "metadata": {
    "colab": {
      "provenance": []
    },
    "kernelspec": {
      "name": "python3",
      "display_name": "Python 3"
    },
    "language_info": {
      "name": "python"
    }
  },
  "cells": [
    {
      "cell_type": "code",
      "execution_count": 6,
      "metadata": {
        "id": "xujOmwykwLqX",
        "colab": {
          "base_uri": "https://localhost:8080/"
        },
        "outputId": "74d0ac11-f208-4af9-b380-d74b4d9b68ef"
      },
      "outputs": [
        {
          "output_type": "stream",
          "name": "stdout",
          "text": [
            "Requirement already satisfied: nltk in /usr/local/lib/python3.10/dist-packages (3.8.1)\n",
            "Requirement already satisfied: click in /usr/local/lib/python3.10/dist-packages (from nltk) (8.1.7)\n",
            "Requirement already satisfied: joblib in /usr/local/lib/python3.10/dist-packages (from nltk) (1.3.2)\n",
            "Requirement already satisfied: regex>=2021.8.3 in /usr/local/lib/python3.10/dist-packages (from nltk) (2023.12.25)\n",
            "Requirement already satisfied: tqdm in /usr/local/lib/python3.10/dist-packages (from nltk) (4.66.2)\n"
          ]
        }
      ],
      "source": [
        "pip install nltk"
      ]
    },
    {
      "cell_type": "code",
      "source": [
        "import nltk\n",
        "\n",
        "from nltk.tokenize import word_tokenize\n",
        "from nltk.tag import pos_tag\n",
        "from nltk.chunk import ne_chunk"
      ],
      "metadata": {
        "id": "77lNeyJq0_w1"
      },
      "execution_count": 7,
      "outputs": []
    },
    {
      "cell_type": "code",
      "source": [
        "nltk.download('punkt')\n",
        "nltk.download('averaged_perceptron_tagger')\n",
        "nltk.download('words')"
      ],
      "metadata": {
        "colab": {
          "base_uri": "https://localhost:8080/"
        },
        "id": "en7GhEqM1UEV",
        "outputId": "044b32fd-e631-4e15-c51e-0e14ad47fac7"
      },
      "execution_count": 35,
      "outputs": [
        {
          "output_type": "stream",
          "name": "stderr",
          "text": [
            "[nltk_data] Downloading package punkt to /root/nltk_data...\n",
            "[nltk_data]   Package punkt is already up-to-date!\n",
            "[nltk_data] Downloading package averaged_perceptron_tagger to\n",
            "[nltk_data]     /root/nltk_data...\n",
            "[nltk_data]   Package averaged_perceptron_tagger is already up-to-\n",
            "[nltk_data]       date!\n",
            "[nltk_data] Downloading package words to /root/nltk_data...\n",
            "[nltk_data]   Package words is already up-to-date!\n"
          ]
        },
        {
          "output_type": "execute_result",
          "data": {
            "text/plain": [
              "True"
            ]
          },
          "metadata": {},
          "execution_count": 35
        }
      ]
    },
    {
      "cell_type": "code",
      "source": [
        "text = \"After years of hard work and dedication, she finally achieved her lifelong dream of becoming a successful entrepreneur, starting her own company from scratch and expanding it into a global enterprise. In the heart of the bustling city, amidst towering skyscrapers and bustling crowds, he found solace in the serene beauty of the urban park, where he could escape the chaos and unwind after a long day at the office. Despite facing numerous challenges and setbacks along the way, they persevered with unwavering determination, ultimately triumphing against all odds and emerging victorious in their quest for excellence.\"\n"
      ],
      "metadata": {
        "id": "fkpsqoWUz3db"
      },
      "execution_count": 41,
      "outputs": []
    },
    {
      "cell_type": "code",
      "source": [
        "tokens = word_tokenize(text)\n",
        "pos_tags = pos_tag(tokens)\n",
        "chunk_tree = ne_chunk(pos_tags)"
      ],
      "metadata": {
        "id": "vPo1L9rP0cEd"
      },
      "execution_count": 42,
      "outputs": []
    },
    {
      "cell_type": "code",
      "source": [
        "print(\"Part-of-Speech Tagging:\")\n",
        "print(pos_tags)"
      ],
      "metadata": {
        "colab": {
          "base_uri": "https://localhost:8080/"
        },
        "id": "_FpoWKd_1W1B",
        "outputId": "5e92806a-081c-4950-d7c4-688e59fbaeb3"
      },
      "execution_count": 43,
      "outputs": [
        {
          "output_type": "stream",
          "name": "stdout",
          "text": [
            "Part-of-Speech Tagging:\n",
            "[('After', 'IN'), ('years', 'NNS'), ('of', 'IN'), ('hard', 'JJ'), ('work', 'NN'), ('and', 'CC'), ('dedication', 'NN'), (',', ','), ('she', 'PRP'), ('finally', 'RB'), ('achieved', 'VBD'), ('her', 'PRP'), ('lifelong', 'JJ'), ('dream', 'NN'), ('of', 'IN'), ('becoming', 'VBG'), ('a', 'DT'), ('successful', 'JJ'), ('entrepreneur', 'NN'), (',', ','), ('starting', 'VBG'), ('her', 'PRP$'), ('own', 'JJ'), ('company', 'NN'), ('from', 'IN'), ('scratch', 'NN'), ('and', 'CC'), ('expanding', 'VBG'), ('it', 'PRP'), ('into', 'IN'), ('a', 'DT'), ('global', 'JJ'), ('enterprise', 'NN'), ('.', '.'), ('In', 'IN'), ('the', 'DT'), ('heart', 'NN'), ('of', 'IN'), ('the', 'DT'), ('bustling', 'NN'), ('city', 'NN'), (',', ','), ('amidst', 'JJ'), ('towering', 'VBG'), ('skyscrapers', 'NNS'), ('and', 'CC'), ('bustling', 'VBG'), ('crowds', 'NN'), (',', ','), ('he', 'PRP'), ('found', 'VBD'), ('solace', 'NN'), ('in', 'IN'), ('the', 'DT'), ('serene', 'JJ'), ('beauty', 'NN'), ('of', 'IN'), ('the', 'DT'), ('urban', 'JJ'), ('park', 'NN'), (',', ','), ('where', 'WRB'), ('he', 'PRP'), ('could', 'MD'), ('escape', 'VB'), ('the', 'DT'), ('chaos', 'NN'), ('and', 'CC'), ('unwind', 'NN'), ('after', 'IN'), ('a', 'DT'), ('long', 'JJ'), ('day', 'NN'), ('at', 'IN'), ('the', 'DT'), ('office', 'NN'), ('.', '.'), ('Despite', 'IN'), ('facing', 'VBG'), ('numerous', 'JJ'), ('challenges', 'NNS'), ('and', 'CC'), ('setbacks', 'NNS'), ('along', 'IN'), ('the', 'DT'), ('way', 'NN'), (',', ','), ('they', 'PRP'), ('persevered', 'VBD'), ('with', 'IN'), ('unwavering', 'JJ'), ('determination', 'NN'), (',', ','), ('ultimately', 'RB'), ('triumphing', 'VBG'), ('against', 'IN'), ('all', 'DT'), ('odds', 'NNS'), ('and', 'CC'), ('emerging', 'VBG'), ('victorious', 'JJ'), ('in', 'IN'), ('their', 'PRP$'), ('quest', 'NN'), ('for', 'IN'), ('excellence', 'NN'), ('.', '.')]\n"
          ]
        }
      ]
    },
    {
      "cell_type": "code",
      "source": [
        "print(\"\\nChunking:\")\n",
        "print(chunk_tree)"
      ],
      "metadata": {
        "colab": {
          "base_uri": "https://localhost:8080/"
        },
        "id": "d3pzWvrI1lpy",
        "outputId": "2fd26238-7112-4ad3-8770-b42a1a4975dc"
      },
      "execution_count": 44,
      "outputs": [
        {
          "output_type": "stream",
          "name": "stdout",
          "text": [
            "\n",
            "Chunking:\n",
            "(S\n",
            "  After/IN\n",
            "  years/NNS\n",
            "  of/IN\n",
            "  hard/JJ\n",
            "  work/NN\n",
            "  and/CC\n",
            "  dedication/NN\n",
            "  ,/,\n",
            "  she/PRP\n",
            "  finally/RB\n",
            "  achieved/VBD\n",
            "  her/PRP\n",
            "  lifelong/JJ\n",
            "  dream/NN\n",
            "  of/IN\n",
            "  becoming/VBG\n",
            "  a/DT\n",
            "  successful/JJ\n",
            "  entrepreneur/NN\n",
            "  ,/,\n",
            "  starting/VBG\n",
            "  her/PRP$\n",
            "  own/JJ\n",
            "  company/NN\n",
            "  from/IN\n",
            "  scratch/NN\n",
            "  and/CC\n",
            "  expanding/VBG\n",
            "  it/PRP\n",
            "  into/IN\n",
            "  a/DT\n",
            "  global/JJ\n",
            "  enterprise/NN\n",
            "  ./.\n",
            "  In/IN\n",
            "  the/DT\n",
            "  heart/NN\n",
            "  of/IN\n",
            "  the/DT\n",
            "  bustling/NN\n",
            "  city/NN\n",
            "  ,/,\n",
            "  amidst/JJ\n",
            "  towering/VBG\n",
            "  skyscrapers/NNS\n",
            "  and/CC\n",
            "  bustling/VBG\n",
            "  crowds/NN\n",
            "  ,/,\n",
            "  he/PRP\n",
            "  found/VBD\n",
            "  solace/NN\n",
            "  in/IN\n",
            "  the/DT\n",
            "  serene/JJ\n",
            "  beauty/NN\n",
            "  of/IN\n",
            "  the/DT\n",
            "  urban/JJ\n",
            "  park/NN\n",
            "  ,/,\n",
            "  where/WRB\n",
            "  he/PRP\n",
            "  could/MD\n",
            "  escape/VB\n",
            "  the/DT\n",
            "  chaos/NN\n",
            "  and/CC\n",
            "  unwind/NN\n",
            "  after/IN\n",
            "  a/DT\n",
            "  long/JJ\n",
            "  day/NN\n",
            "  at/IN\n",
            "  the/DT\n",
            "  office/NN\n",
            "  ./.\n",
            "  Despite/IN\n",
            "  facing/VBG\n",
            "  numerous/JJ\n",
            "  challenges/NNS\n",
            "  and/CC\n",
            "  setbacks/NNS\n",
            "  along/IN\n",
            "  the/DT\n",
            "  way/NN\n",
            "  ,/,\n",
            "  they/PRP\n",
            "  persevered/VBD\n",
            "  with/IN\n",
            "  unwavering/JJ\n",
            "  determination/NN\n",
            "  ,/,\n",
            "  ultimately/RB\n",
            "  triumphing/VBG\n",
            "  against/IN\n",
            "  all/DT\n",
            "  odds/NNS\n",
            "  and/CC\n",
            "  emerging/VBG\n",
            "  victorious/JJ\n",
            "  in/IN\n",
            "  their/PRP$\n",
            "  quest/NN\n",
            "  for/IN\n",
            "  excellence/NN\n",
            "  ./.)\n"
          ]
        }
      ]
    }
  ]
}