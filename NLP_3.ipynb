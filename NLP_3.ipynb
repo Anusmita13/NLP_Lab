{
  "nbformat": 4,
  "nbformat_minor": 0,
  "metadata": {
    "colab": {
      "provenance": []
    },
    "kernelspec": {
      "name": "python3",
      "display_name": "Python 3"
    },
    "language_info": {
      "name": "python"
    }
  },
  "cells": [
    {
      "cell_type": "code",
      "execution_count": 2,
      "metadata": {
        "id": "e3DQQ3pnnfN3"
      },
      "outputs": [],
      "source": [
        "import nltk\n",
        "from nltk.corpus import stopwords\n",
        "from nltk.tokenize import word_tokenize"
      ]
    },
    {
      "cell_type": "code",
      "source": [
        "nltk.download('stopwords')\n",
        "nltk.download('punkt')"
      ],
      "metadata": {
        "colab": {
          "base_uri": "https://localhost:8080/"
        },
        "id": "XgxMTRSCqL3t",
        "outputId": "ba4b081f-aafb-4e2e-8654-2fcc86cfad05"
      },
      "execution_count": 3,
      "outputs": [
        {
          "output_type": "stream",
          "name": "stderr",
          "text": [
            "[nltk_data] Downloading package stopwords to /root/nltk_data...\n",
            "[nltk_data]   Unzipping corpora/stopwords.zip.\n",
            "[nltk_data] Downloading package punkt to /root/nltk_data...\n",
            "[nltk_data]   Unzipping tokenizers/punkt.zip.\n"
          ]
        },
        {
          "output_type": "execute_result",
          "data": {
            "text/plain": [
              "True"
            ]
          },
          "metadata": {},
          "execution_count": 3
        }
      ]
    },
    {
      "cell_type": "code",
      "source": [
        "text = \"Artificial intelligence (AI) is revolutionizing industries across the globe. From healthcare to finance, transportation to entertainment, AI technologies are reshaping the way we live and work. Machine learning algorithms analyze vast amounts of data to uncover patterns, make predictions, and automate tasks. Natural language processing (NLP) enables computers to understand and generate human language, powering virtual assistants and language translation services. Robotics and automation are streamlining production processes and transforming labor markets. As AI continues to advance, its impact on society will only grow, presenting both opportunities and challenges for businesses, governments, and individuals alike.\""
      ],
      "metadata": {
        "id": "4LNK_dCvqQmU"
      },
      "execution_count": 9,
      "outputs": []
    },
    {
      "cell_type": "code",
      "source": [
        "tokens = word_tokenize(text)"
      ],
      "metadata": {
        "id": "243LgoJXqS7e"
      },
      "execution_count": 10,
      "outputs": []
    },
    {
      "cell_type": "code",
      "source": [
        "stop_words = set(stopwords.words('english'))"
      ],
      "metadata": {
        "id": "ZajRAmweqVRW"
      },
      "execution_count": 11,
      "outputs": []
    },
    {
      "cell_type": "code",
      "source": [
        "filtered_tokens = [word for word in tokens if word.lower() not in stop_words]"
      ],
      "metadata": {
        "id": "NYiDP3YhqXWg"
      },
      "execution_count": 12,
      "outputs": []
    },
    {
      "cell_type": "code",
      "source": [
        "print(\"Original tokens:\", tokens)\n",
        "print(\"Filtered tokens:\", filtered_tokens)"
      ],
      "metadata": {
        "colab": {
          "base_uri": "https://localhost:8080/"
        },
        "id": "KWHlIshdqdj_",
        "outputId": "0dd3e95b-7889-4d19-c4b1-b4c7e227fb80"
      },
      "execution_count": 13,
      "outputs": [
        {
          "output_type": "stream",
          "name": "stdout",
          "text": [
            "Original tokens: ['Artificial', 'intelligence', '(', 'AI', ')', 'is', 'revolutionizing', 'industries', 'across', 'the', 'globe', '.', 'From', 'healthcare', 'to', 'finance', ',', 'transportation', 'to', 'entertainment', ',', 'AI', 'technologies', 'are', 'reshaping', 'the', 'way', 'we', 'live', 'and', 'work', '.', 'Machine', 'learning', 'algorithms', 'analyze', 'vast', 'amounts', 'of', 'data', 'to', 'uncover', 'patterns', ',', 'make', 'predictions', ',', 'and', 'automate', 'tasks', '.', 'Natural', 'language', 'processing', '(', 'NLP', ')', 'enables', 'computers', 'to', 'understand', 'and', 'generate', 'human', 'language', ',', 'powering', 'virtual', 'assistants', 'and', 'language', 'translation', 'services', '.', 'Robotics', 'and', 'automation', 'are', 'streamlining', 'production', 'processes', 'and', 'transforming', 'labor', 'markets', '.', 'As', 'AI', 'continues', 'to', 'advance', ',', 'its', 'impact', 'on', 'society', 'will', 'only', 'grow', ',', 'presenting', 'both', 'opportunities', 'and', 'challenges', 'for', 'businesses', ',', 'governments', ',', 'and', 'individuals', 'alike', '.']\n",
            "Filtered tokens: ['Artificial', 'intelligence', '(', 'AI', ')', 'revolutionizing', 'industries', 'across', 'globe', '.', 'healthcare', 'finance', ',', 'transportation', 'entertainment', ',', 'AI', 'technologies', 'reshaping', 'way', 'live', 'work', '.', 'Machine', 'learning', 'algorithms', 'analyze', 'vast', 'amounts', 'data', 'uncover', 'patterns', ',', 'make', 'predictions', ',', 'automate', 'tasks', '.', 'Natural', 'language', 'processing', '(', 'NLP', ')', 'enables', 'computers', 'understand', 'generate', 'human', 'language', ',', 'powering', 'virtual', 'assistants', 'language', 'translation', 'services', '.', 'Robotics', 'automation', 'streamlining', 'production', 'processes', 'transforming', 'labor', 'markets', '.', 'AI', 'continues', 'advance', ',', 'impact', 'society', 'grow', ',', 'presenting', 'opportunities', 'challenges', 'businesses', ',', 'governments', ',', 'individuals', 'alike', '.']\n"
          ]
        }
      ]
    }
  ]
}