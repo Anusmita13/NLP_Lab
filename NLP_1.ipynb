{
  "nbformat": 4,
  "nbformat_minor": 0,
  "metadata": {
    "colab": {
      "provenance": []
    },
    "kernelspec": {
      "name": "python3",
      "display_name": "Python 3"
    },
    "language_info": {
      "name": "python"
    }
  },
  "cells": [
    {
      "cell_type": "code",
      "source": [
        "pip install nltk"
      ],
      "metadata": {
        "colab": {
          "base_uri": "https://localhost:8080/"
        },
        "id": "1L3uDM7mgAQ8",
        "outputId": "57e36c13-bc16-430e-967f-c1d81fa8c2ef"
      },
      "execution_count": 2,
      "outputs": [
        {
          "output_type": "stream",
          "name": "stdout",
          "text": [
            "Requirement already satisfied: nltk in /usr/local/lib/python3.10/dist-packages (3.8.1)\n",
            "Requirement already satisfied: click in /usr/local/lib/python3.10/dist-packages (from nltk) (8.1.7)\n",
            "Requirement already satisfied: joblib in /usr/local/lib/python3.10/dist-packages (from nltk) (1.3.2)\n",
            "Requirement already satisfied: regex>=2021.8.3 in /usr/local/lib/python3.10/dist-packages (from nltk) (2023.12.25)\n",
            "Requirement already satisfied: tqdm in /usr/local/lib/python3.10/dist-packages (from nltk) (4.66.1)\n"
          ]
        }
      ]
    },
    {
      "cell_type": "code",
      "source": [
        "import nltk\n",
        "from nltk import word_tokenize,  sent_tokenize, regexp_tokenize, WhitespaceTokenizer, TweetTokenizer\n",
        "\n",
        "nltk.download('punkt')\n",
        "\n",
        "text = \"The golden hues of the setting sun painted the sky with a breathtaking palette of warm tones, casting a gentle glow upon the tranquil landscape. As the day bid adieu, the moon emerged, adorned with a sprinkle of stars like celestial diamonds against the velvety night canvas. A soft breeze whispered through the leaves, carrying with it the sweet fragrance of blooming flowers, creating a serene symphony of nature's beauty under the vast, twinkling tapestry above.\""
      ],
      "metadata": {
        "colab": {
          "base_uri": "https://localhost:8080/"
        },
        "id": "jSLcroWzgC4v",
        "outputId": "ec458161-f506-45ac-d438-441e1df5ae55"
      },
      "execution_count": 14,
      "outputs": [
        {
          "output_type": "stream",
          "name": "stderr",
          "text": [
            "[nltk_data] Downloading package punkt to /root/nltk_data...\n",
            "[nltk_data]   Package punkt is already up-to-date!\n"
          ]
        }
      ]
    },
    {
      "cell_type": "code",
      "source": [
        "words = word_tokenize(text)\n",
        "print(\"Word Tokenization:\")\n",
        "print(words)"
      ],
      "metadata": {
        "colab": {
          "base_uri": "https://localhost:8080/"
        },
        "id": "-SZPNVsPd_3Z",
        "outputId": "a1809d98-db40-4443-e447-ccf224d0f121"
      },
      "execution_count": 17,
      "outputs": [
        {
          "output_type": "stream",
          "name": "stdout",
          "text": [
            "Word Tokenization:\n",
            "['The', 'golden', 'hues', 'of', 'the', 'setting', 'sun', 'painted', 'the', 'sky', 'with', 'a', 'breathtaking', 'palette', 'of', 'warm', 'tones', ',', 'casting', 'a', 'gentle', 'glow', 'upon', 'the', 'tranquil', 'landscape', '.', 'As', 'the', 'day', 'bid', 'adieu', ',', 'the', 'moon', 'emerged', ',', 'adorned', 'with', 'a', 'sprinkle', 'of', 'stars', 'like', 'celestial', 'diamonds', 'against', 'the', 'velvety', 'night', 'canvas', '.', 'A', 'soft', 'breeze', 'whispered', 'through', 'the', 'leaves', ',', 'carrying', 'with', 'it', 'the', 'sweet', 'fragrance', 'of', 'blooming', 'flowers', ',', 'creating', 'a', 'serene', 'symphony', 'of', 'nature', \"'s\", 'beauty', 'under', 'the', 'vast', ',', 'twinkling', 'tapestry', 'above', '.']\n"
          ]
        }
      ]
    },
    {
      "cell_type": "code",
      "source": [
        "sentences = sent_tokenize(text)\n",
        "print(\"\\nSentence Tokenization:\")\n",
        "print(sentences)"
      ],
      "metadata": {
        "colab": {
          "base_uri": "https://localhost:8080/"
        },
        "id": "js6p7EqMeoZv",
        "outputId": "2408e4cb-e47f-4003-a302-6975b3d67198"
      },
      "execution_count": 15,
      "outputs": [
        {
          "output_type": "stream",
          "name": "stdout",
          "text": [
            "\n",
            "Sentence Tokenization:\n",
            "['The golden hues of the setting sun painted the sky with a breathtaking palette of warm tones, casting a gentle glow upon the tranquil landscape.', 'As the day bid adieu, the moon emerged, adorned with a sprinkle of stars like celestial diamonds against the velvety night canvas.', \"A soft breeze whispered through the leaves, carrying with it the sweet fragrance of blooming flowers, creating a serene symphony of nature's beauty under the vast, twinkling tapestry above.\"]\n"
          ]
        }
      ]
    },
    {
      "cell_type": "code",
      "source": [
        "pattern = r'\\w+'\n",
        "regexp_tokens = regexp_tokenize(text, pattern)\n",
        "print(\"\\nRegExp Tokenization:\")\n",
        "print(regexp_tokens)"
      ],
      "metadata": {
        "colab": {
          "base_uri": "https://localhost:8080/"
        },
        "id": "WKDgNrOhfMbh",
        "outputId": "d6cb32ba-97f8-4bb0-febc-ddd21402e694"
      },
      "execution_count": 18,
      "outputs": [
        {
          "output_type": "stream",
          "name": "stdout",
          "text": [
            "\n",
            "RegExp Tokenization:\n",
            "['The', 'golden', 'hues', 'of', 'the', 'setting', 'sun', 'painted', 'the', 'sky', 'with', 'a', 'breathtaking', 'palette', 'of', 'warm', 'tones', 'casting', 'a', 'gentle', 'glow', 'upon', 'the', 'tranquil', 'landscape', 'As', 'the', 'day', 'bid', 'adieu', 'the', 'moon', 'emerged', 'adorned', 'with', 'a', 'sprinkle', 'of', 'stars', 'like', 'celestial', 'diamonds', 'against', 'the', 'velvety', 'night', 'canvas', 'A', 'soft', 'breeze', 'whispered', 'through', 'the', 'leaves', 'carrying', 'with', 'it', 'the', 'sweet', 'fragrance', 'of', 'blooming', 'flowers', 'creating', 'a', 'serene', 'symphony', 'of', 'nature', 's', 'beauty', 'under', 'the', 'vast', 'twinkling', 'tapestry', 'above']\n"
          ]
        }
      ]
    },
    {
      "cell_type": "code",
      "source": [
        "tokens = text.split()\n",
        "print(\"\\nSplit Tokenization:\")\n",
        "print(tokens)"
      ],
      "metadata": {
        "colab": {
          "base_uri": "https://localhost:8080/"
        },
        "id": "k8pJz6TUdvtu",
        "outputId": "054ed760-50cd-4f81-d393-cfbb54317fcb"
      },
      "execution_count": 19,
      "outputs": [
        {
          "output_type": "stream",
          "name": "stdout",
          "text": [
            "\n",
            "Split Tokenization:\n",
            "['The', 'golden', 'hues', 'of', 'the', 'setting', 'sun', 'painted', 'the', 'sky', 'with', 'a', 'breathtaking', 'palette', 'of', 'warm', 'tones,', 'casting', 'a', 'gentle', 'glow', 'upon', 'the', 'tranquil', 'landscape.', 'As', 'the', 'day', 'bid', 'adieu,', 'the', 'moon', 'emerged,', 'adorned', 'with', 'a', 'sprinkle', 'of', 'stars', 'like', 'celestial', 'diamonds', 'against', 'the', 'velvety', 'night', 'canvas.', 'A', 'soft', 'breeze', 'whispered', 'through', 'the', 'leaves,', 'carrying', 'with', 'it', 'the', 'sweet', 'fragrance', 'of', 'blooming', 'flowers,', 'creating', 'a', 'serene', 'symphony', 'of', \"nature's\", 'beauty', 'under', 'the', 'vast,', 'twinkling', 'tapestry', 'above.']\n"
          ]
        }
      ]
    }
  ]
}